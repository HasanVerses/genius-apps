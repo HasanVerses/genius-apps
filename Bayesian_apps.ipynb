{
 "cells": [
  {
   "cell_type": "code",
   "execution_count": null,
   "metadata": {},
   "outputs": [],
   "source": []
  },
  {
   "cell_type": "markdown",
   "metadata": {},
   "source": [
    "The goal of this model is to showcase ... "
   ]
  },
  {
   "cell_type": "code",
   "execution_count": 7,
   "metadata": {},
   "outputs": [
    {
     "name": "stdout",
     "output_type": "stream",
     "text": [
      "hello\n"
     ]
    }
   ],
   "source": [
    "print(\"hello\")\n",
    "\n",
    "import rpy2"
   ]
  },
  {
   "cell_type": "code",
   "execution_count": 9,
   "metadata": {},
   "outputs": [
    {
     "name": "stdout",
     "output_type": "stream",
     "text": [
      "bye\n"
     ]
    }
   ],
   "source": [
    "print(\"bye\")\n"
   ]
  },
  {
   "cell_type": "markdown",
   "metadata": {},
   "source": [
    "How to read the data "
   ]
  },
  {
   "cell_type": "code",
   "execution_count": null,
   "metadata": {},
   "outputs": [],
   "source": []
  },
  {
   "cell_type": "code",
   "execution_count": 4,
   "metadata": {},
   "outputs": [
    {
     "name": "stderr",
     "output_type": "stream",
     "text": [
      "c:\\Users\\Hasan\\Desktop\\PythonProj\\OrderOptimization\\.venv\\Lib\\site-packages\\tqdm\\auto.py:21: TqdmWarning: IProgress not found. Please update jupyter and ipywidgets. See https://ipywidgets.readthedocs.io/en/stable/user_install.html\n",
      "  from .autonotebook import tqdm as notebook_tqdm\n"
     ]
    },
    {
     "data": {
      "text/plain": [
       "<DiscreteFactor representing phi(J:2, Q:2) at 0x1f4426f0550>"
      ]
     },
     "execution_count": 4,
     "metadata": {},
     "output_type": "execute_result"
    }
   ],
   "source": [
    "from pgmpy.factors.discrete import TabularCPD\n",
    "from pgmpy.models import BayesianNetwork\n",
    "from pgmpy.inference import BeliefPropagation\n",
    "bayesian_model = BayesianNetwork([('A', 'J'), ('R', 'J'), ('J', 'Q'),\n",
    "                                ('J', 'L'), ('G', 'L')])\n",
    "cpd_a = TabularCPD('A', 2, [[0.2], [0.8]])\n",
    "cpd_r = TabularCPD('R', 2, [[0.4], [0.6]])\n",
    "cpd_j = TabularCPD('J', 2,\n",
    "                   [[0.9, 0.6, 0.7, 0.1],\n",
    "                    [0.1, 0.4, 0.3, 0.9]],\n",
    "                   ['R', 'A'], [2, 2])\n",
    "cpd_q = TabularCPD('Q', 2,\n",
    "                   [[0.9, 0.2],\n",
    "                    [0.1, 0.8]],\n",
    "                   ['J'], [2])\n",
    "cpd_l = TabularCPD('L', 2,\n",
    "                   [[0.9, 0.45, 0.8, 0.1],\n",
    "                    [0.1, 0.55, 0.2, 0.9]],\n",
    "                   ['G', 'J'], [2, 2])\n",
    "cpd_g = TabularCPD('G', 2, [[0.6], [0.4]])\n",
    "bayesian_model.add_cpds(cpd_a, cpd_r, cpd_j, cpd_q, cpd_l, cpd_g)\n",
    "belief_propagation = BeliefPropagation(bayesian_model)\n",
    "belief_propagation.query(variables=['J', 'Q'],\n",
    "                         evidence={'A': 0, 'R': 0, 'G': 0, 'L': 1})"
   ]
  },
  {
   "cell_type": "code",
   "execution_count": 10,
   "metadata": {},
   "outputs": [
    {
     "name": "stderr",
     "output_type": "stream",
     "text": [
      "INFO:rpy2.situation:cffi mode is CFFI_MODE.ANY\n",
      "INFO:rpy2.situation:R home found: C:\\Users\\Hasan\\AppData\\Local\\Programs\\R\\R-4.4.0\n",
      "INFO:rpy2.rinterface_lib.embedded:Default options to initialize R: rpy2, --quiet, --no-save\n"
     ]
    },
    {
     "ename": "",
     "evalue": "",
     "output_type": "error",
     "traceback": [
      "\u001b[1;31mThe Kernel crashed while executing code in the current cell or a previous cell. \n",
      "\u001b[1;31mPlease review the code in the cell(s) to identify a possible cause of the failure. \n",
      "\u001b[1;31mClick <a href='https://aka.ms/vscodeJupyterKernelCrash'>here</a> for more info. \n",
      "\u001b[1;31mView Jupyter <a href='command:jupyter.viewOutput'>log</a> for further details."
     ]
    }
   ],
   "source": []
  }
 ],
 "metadata": {
  "kernelspec": {
   "display_name": ".venv",
   "language": "python",
   "name": "python3"
  },
  "language_info": {
   "codemirror_mode": {
    "name": "ipython",
    "version": 3
   },
   "file_extension": ".py",
   "mimetype": "text/x-python",
   "name": "python",
   "nbconvert_exporter": "python",
   "pygments_lexer": "ipython3",
   "version": "3.11.4"
  }
 },
 "nbformat": 4,
 "nbformat_minor": 2
}
