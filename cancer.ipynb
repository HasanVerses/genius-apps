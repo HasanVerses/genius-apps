{
 "cells": [
  {
   "cell_type": "code",
   "execution_count": 1,
   "metadata": {},
   "outputs": [
    {
     "name": "stderr",
     "output_type": "stream",
     "text": [
      "c:\\Users\\Hasan\\Desktop\\PythonProj\\genius-apps\\env\\Lib\\site-packages\\tqdm\\auto.py:21: TqdmWarning: IProgress not found. Please update jupyter and ipywidgets. See https://ipywidgets.readthedocs.io/en/stable/user_install.html\n",
      "  from .autonotebook import tqdm as notebook_tqdm\n"
     ]
    }
   ],
   "source": [
    "import matplotlib.pyplot as plt \n",
    "import networkx as nx\n",
    "import pandas as pd \n",
    "\n",
    "from pgmpy.utils import get_example_model\n",
    "from pgmpy.inference import BeliefPropagation\n",
    "\n",
    "from IPython.display import display, Image\n",
    "%config IPCompleter.greedy=True\n"
   ]
  },
  {
   "cell_type": "markdown",
   "metadata": {},
   "source": [
    "**Problem Description:** You are tasked with building a Bayesian network model to assist in the diagnosis of respiratory diseases in the Asian population. The network should represent causal relationships between diseases, symptoms, and risk factors, allowing physicians to infer the likelihood of a patient having a particular disease based on observed symptoms and risk factors."
   ]
  },
  {
   "cell_type": "code",
   "execution_count": 7,
   "metadata": {},
   "outputs": [
    {
     "name": "stdout",
     "output_type": "stream",
     "text": [
      "network unknown {\n",
      "}\n",
      "variable asia {\n",
      "type discrete [ 2 ] { yes, no };\n",
      "}\n",
      "variable tub {\n",
      "type discrete [ 2 ] { yes, no };\n",
      "}\n",
      "variable smoke {\n",
      "type discrete [ 2 ] { yes, no };\n",
      "}\n",
      "variable lung {\n",
      "type discrete [ 2 ] { yes, no };\n",
      "}\n",
      "variable bronc {\n",
      "type discrete [ 2 ] { yes, no };\n",
      "}\n",
      "variable either {\n",
      "type discrete [ 2 ] { yes, no };\n",
      "}\n",
      "variable xray {\n",
      "type discrete [ 2 ] { yes, no };\n",
      "}\n",
      "variable dysp {\n",
      "type discrete [ 2 ] { yes, no };\n",
      "}\n",
      "probability ( asia ) {\n",
      "table 0.01, 0.99;\n",
      "}\n",
      "probability ( tub | asia ) {\n",
      "(yes) 0.05, 0.95;\n",
      "(no) 0.01, 0.99;\n",
      "}\n",
      "probability ( smoke ) {\n",
      "table 0.5, 0.5;\n",
      "}\n",
      "probability ( lung | smoke ) {\n",
      "(yes) 0.1, 0.9;\n",
      "(no) 0.01, 0.99;\n",
      "}\n",
      "probability ( bronc | smoke ) {\n",
      "(yes) 0.6, 0.4;\n",
      "(no) 0.3, 0.7;\n",
      "}\n",
      "probability ( either | lung, tub ) {\n",
      "(yes, yes) 1.0, 0.0;\n",
      "(no, yes) 1.0, 0.0;\n",
      "(yes, no) 1.0, 0.0;\n",
      "(no, no) 0.0, 1.0;\n",
      "}\n",
      "probability ( xray | either ) {\n",
      "(yes) 0.98, 0.02;\n",
      "(no) 0.05, 0.95;\n",
      "}\n",
      "probability ( dysp | bronc, either ) {\n",
      "(yes, yes) 0.9, 0.1;\n",
      "(no, yes) 0.7, 0.3;\n",
      "(yes, no) 0.8, 0.2;\n",
      "(no, no) 0.1, 0.9;\n",
      "}\n"
     ]
    }
   ],
   "source": [
    "asia_model = get_example_model('asia')\n",
    "\n",
    "bif_file_path = 'asia.bif'\n",
    "\n",
    "with open(bif_file_path, 'r') as file:\n",
    "    for line in file:\n",
    "        print(line.strip())"
   ]
  },
  {
   "cell_type": "code",
   "execution_count": null,
   "metadata": {},
   "outputs": [],
   "source": [
    "edges = asia_model.edges()\n",
    "nodes = asia_model.nodes()\n",
    "\n",
    "G = nx.DiGraph()\n",
    "G.add_edges_from(edges)\n",
    "\n",
    "# plt.figure(figsize=(8, 6))\n",
    "# pos = nx.spring_layout(G)\n",
    "# nx.draw(G, pos, with_labels=True, node_size=2000, node_color=\"skyblue\", font_size=12, font_weight=\"bold\", arrowsize=20)\n",
    "# plt.title(\"Asia Model\")\n",
    "# plt.show()\n",
    "\n",
    "#display(Image(filename='./images/asia.png'))"
   ]
  },
  {
   "cell_type": "code",
   "execution_count": 12,
   "metadata": {},
   "outputs": [
    {
     "name": "stdout",
     "output_type": "stream",
     "text": [
      "+---------+------------+-------------------+\n",
      "| asia    | smoke      |   phi(asia,smoke) |\n",
      "+=========+============+===================+\n",
      "| asia(0) | smoke(yes) |            0.0091 |\n",
      "+---------+------------+-------------------+\n",
      "| asia(0) | smoke(no)  |            0.0009 |\n",
      "+---------+------------+-------------------+\n",
      "| asia(1) | smoke(yes) |            0.9000 |\n",
      "+---------+------------+-------------------+\n",
      "| asia(1) | smoke(no)  |            0.0900 |\n",
      "+---------+------------+-------------------+\n"
     ]
    },
    {
     "name": "stderr",
     "output_type": "stream",
     "text": [
      "c:\\Users\\Hasan\\Desktop\\PythonProj\\genius-apps\\env\\Lib\\site-packages\\pgmpy\\factors\\discrete\\DiscreteFactor.py:796: RuntimeWarning: invalid value encountered in divide\n",
      "  phi.values = phi.values / phi1.values\n"
     ]
    }
   ],
   "source": [
    "bp = BeliefPropagation(asia_model)\n",
    "query_result = bp.query(variables=[\"asia\", \"smoke\"], evidence={\"lung\": \"yes\"})\n",
    "print(query_result)"
   ]
  },
  {
   "cell_type": "markdown",
   "metadata": {},
   "source": [
    "# **Learning** "
   ]
  },
  {
   "cell_type": "code",
   "execution_count": 8,
   "metadata": {},
   "outputs": [],
   "source": [
    "import numpy as np\n",
    "from pgmpy.estimators import MaximumLikelihoodEstimator"
   ]
  },
  {
   "cell_type": "code",
   "execution_count": 9,
   "metadata": {},
   "outputs": [
    {
     "name": "stdout",
     "output_type": "stream",
     "text": [
      "[<TabularCPD representing P(asia:2) at 0x1e1430e5450>, <TabularCPD representing P(tub:2 | asia:2) at 0x1e11f62fb10>, <TabularCPD representing P(smoke:2) at 0x1e11e83f610>, <TabularCPD representing P(lung:2 | smoke:2) at 0x1e11e8465d0>, <TabularCPD representing P(bronc:2 | smoke:2) at 0x1e11e847c50>, <TabularCPD representing P(either:2 | lung:2, tub:2) at 0x1e11e847b50>, <TabularCPD representing P(xray:2 | either:2) at 0x1e11e8472d0>, <TabularCPD representing P(dysp:2 | bronc:2, either:2) at 0x1e11e846110>]\n",
      "+---------+-------+\n",
      "| asia(0) | 0.488 |\n",
      "+---------+-------+\n",
      "| asia(1) | 0.512 |\n",
      "+---------+-------+\n",
      "+--------+---------------------+------------+\n",
      "| asia   | asia(0)             | asia(1)    |\n",
      "+--------+---------------------+------------+\n",
      "| tub(0) | 0.47950819672131145 | 0.53515625 |\n",
      "+--------+---------------------+------------+\n",
      "| tub(1) | 0.5204918032786885  | 0.46484375 |\n",
      "+--------+---------------------+------------+\n",
      "+----------+-------+\n",
      "| smoke(0) | 0.477 |\n",
      "+----------+-------+\n",
      "| smoke(1) | 0.523 |\n",
      "+----------+-------+\n",
      "+---------+---------------------+-------------------+\n",
      "| smoke   | smoke(0)            | smoke(1)          |\n",
      "+---------+---------------------+-------------------+\n",
      "| lung(0) | 0.49266247379454925 | 0.502868068833652 |\n",
      "+---------+---------------------+-------------------+\n",
      "| lung(1) | 0.5073375262054507  | 0.497131931166348 |\n",
      "+---------+---------------------+-------------------+\n",
      "+----------+--------------------+--------------------+\n",
      "| smoke    | smoke(0)           | smoke(1)           |\n",
      "+----------+--------------------+--------------------+\n",
      "| bronc(0) | 0.4989517819706499 | 0.5181644359464627 |\n",
      "+----------+--------------------+--------------------+\n",
      "| bronc(1) | 0.5010482180293501 | 0.4818355640535373 |\n",
      "+----------+--------------------+--------------------+\n",
      "+-----------+------------+---------------------+---------------------+---------+\n",
      "| lung      | lung(0)    | lung(0)             | lung(1)             | lung(1) |\n",
      "+-----------+------------+---------------------+---------------------+---------+\n",
      "| tub       | tub(0)     | tub(1)              | tub(0)              | tub(1)  |\n",
      "+-----------+------------+---------------------+---------------------+---------+\n",
      "| either(0) | 0.52734375 | 0.49586776859504134 | 0.47619047619047616 | 0.536   |\n",
      "+-----------+------------+---------------------+---------------------+---------+\n",
      "| either(1) | 0.47265625 | 0.5041322314049587  | 0.5238095238095238  | 0.464   |\n",
      "+-----------+------------+---------------------+---------------------+---------+\n",
      "+---------+---------------------+---------------------+\n",
      "| either  | either(0)           | either(1)           |\n",
      "+---------+---------------------+---------------------+\n",
      "| xray(0) | 0.5265225933202358  | 0.5071283095723014  |\n",
      "+---------+---------------------+---------------------+\n",
      "| xray(1) | 0.47347740667976423 | 0.49287169042769857 |\n",
      "+---------+---------------------+---------------------+\n",
      "+---------+---------------------+-----+---------------------+\n",
      "| bronc   | bronc(0)            | ... | bronc(1)            |\n",
      "+---------+---------------------+-----+---------------------+\n",
      "| either  | either(0)           | ... | either(1)           |\n",
      "+---------+---------------------+-----+---------------------+\n",
      "| dysp(0) | 0.5076335877862596  | ... | 0.5450819672131147  |\n",
      "+---------+---------------------+-----+---------------------+\n",
      "| dysp(1) | 0.49236641221374045 | ... | 0.45491803278688525 |\n",
      "+---------+---------------------+-----+---------------------+\n"
     ]
    }
   ],
   "source": [
    "asia_model = get_example_model('asia')\n",
    "\n",
    "edges = asia_model.edges()\n",
    "nodes = asia_model.nodes()\n",
    "\n",
    "values = pd.DataFrame(np.random.randint(low=0, high=2, size=(1000, len(nodes))),\n",
    "                      columns=nodes)\n",
    "\n",
    "estimator = MaximumLikelihoodEstimator(asia_model, values)\n",
    "\n",
    "print(estimator.get_parameters())\n",
    "\n",
    "for cpd in estimator.get_parameters():\n",
    "    print(cpd)"
   ]
  },
  {
   "cell_type": "code",
   "execution_count": 34,
   "metadata": {},
   "outputs": [],
   "source": []
  }
 ],
 "metadata": {
  "kernelspec": {
   "display_name": ".venv",
   "language": "python",
   "name": "python3"
  },
  "language_info": {
   "codemirror_mode": {
    "name": "ipython",
    "version": 3
   },
   "file_extension": ".py",
   "mimetype": "text/x-python",
   "name": "python",
   "nbconvert_exporter": "python",
   "pygments_lexer": "ipython3",
   "version": "3.11.4"
  }
 },
 "nbformat": 4,
 "nbformat_minor": 2
}
