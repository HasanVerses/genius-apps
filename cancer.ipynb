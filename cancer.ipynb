{
 "cells": [
  {
   "cell_type": "markdown",
   "metadata": {},
   "source": [
    "## High level overview \n",
    "\n",
    "This is a high level over of the process.\n",
    "\n",
    "```mermaid\n",
    "flowchart \n",
    "    subgraph Generative Model\n",
    "        EX[\"Generative Model\"]\n",
    "        ProblemSpecific((\"Problem \n",
    "        Specific\"))\n",
    "        FactorGraph[Factor Graph]\n",
    "        EX --> FactorGraph\n",
    "    end\n",
    "    subgraph Inference\n",
    "        General((\"General\"))\n",
    "        Inf[\"Inference\"]\n",
    "        Act[\"Action Selection\"]\n",
    "        Learn[\"Learning\"]\n",
    "    end\n",
    "    FactorGraph --> Inf\n",
    "    FactorGraph --> Act\n",
    "    FactorGraph --> Learn\n",
    "```\n",
    "\n",
    "For our problem, we need to have a generative model. A client will come up with a generative model. \n",
    "\n",
    "A generative model represents a joint probability distribution of a set of random variables. \n",
    "\n",
    "$$\n",
    "\\text{Generative Model} \\quad \\large P(X_1, X_2, ..., X_n)\n",
    "$$\n",
    "\n",
    "A generative model is useful if it can use the structure of the problem to factorize the joint probability distribution. We call this process **factorization**. A client will come up with the factorization.  "
   ]
  },
  {
   "cell_type": "markdown",
   "metadata": {},
   "source": [
    "## Bayesian Network \n",
    "\n",
    "A **Graphical model** (BN) a generative model which specifies a joint distribution over $X$ as a product of local conditional distributions, one for each node:\n",
    "\n",
    "$$\n",
    "\\large P(X_1=x_1, ..., X_n =x_n) = \\prod_{i=1}^np(X_i|X_{Parent(i)})\n",
    "$$\n",
    "\n",
    "where $X_{Parent(i)}$ denotes the set of nodes that point towards node $X_i$ in the graph.\n",
    "\n",
    "For example, consider this Bayesian Network given bellow.  \n",
    "\n",
    "```mermaid\n",
    "flowchart LR;\n",
    "    A[x1]; \n",
    "    B[x2];\n",
    "    A --> B;\n",
    "    A --> C[x3];\n",
    "    B --> C\n",
    "    C --> D[x4];\n",
    "    C --> E[x5];\n",
    "```\n",
    " \n",
    "We can write the joint probability corresponding this this Bayesian network as\n",
    "\n",
    "$$\n",
    "\\large p(X_1, X_2, ..., X_5) = p(X_1)P(X2|X_1)P(X3|X1, X2) P(X4|X3) P(X5|X3)\n",
    "$$"
   ]
  },
  {
   "cell_type": "markdown",
   "metadata": {},
   "source": [
    "## Probabilistic Inference \n",
    "An essential aspect of generative models is their utility in enabling **probabilistic inference**. \n",
    "\n",
    "Let $X= \\{X_1, X_2, ..., X_n\\}$ be a set of random variables and $P(X_{1:n})$ be a joint probability distribution function. Given **evidence** $E \\subseteq X$, and a **query** $Q \\subseteq X$, we express probabilistic inference as:\n",
    "\n",
    "$$\n",
    "\\large {P}(Q|E=e)\n",
    "$$ \n",
    "\n",
    "For example, let us define a generative model by $P(X_1, X_2, X_3, X_4)$, we can then define the following inference problems:\n",
    "\n",
    "- $P(X_1, X_2|X_3=5)$   \n",
    "- $p(X_1)$\n"
   ]
  },
  {
   "cell_type": "markdown",
   "metadata": {},
   "source": [
    "## Learning \n",
    "\n",
    "Learning refers to parameter estimation. \n",
    "\n",
    "This problem simply aims to learn the parameters (conditional probabilities) of the model from data.\n",
    "\n",
    "Data refers to samples/observation for each random variable. "
   ]
  },
  {
   "cell_type": "markdown",
   "metadata": {},
   "source": [
    "## A few more notes!\n",
    "\n",
    "- Our objective is to **validate** the results of the genius software by comparing them with other open-source alternatives. The goal is not a computational comparison at this stage.\n",
    "- Graphical models represent just one category of generative models. However, they are sufficient for our purpose. This is because a client will come up with a generative model and factor graph (not us) at this stage.\n",
    "- It is beneficial to establish an accepted \"universal\" template for the factor graph. Once this is done, we can convert this graph into a format compatible with genius and perform inference and learning processes.\n",
    "- In the meantime, because our key goal is to validate the results, we decided to test this process with a BIF format. "
   ]
  },
  {
   "cell_type": "code",
   "execution_count": 22,
   "metadata": {},
   "outputs": [],
   "source": [
    "import matplotlib.pyplot as plt \n",
    "import networkx as nx\n",
    "import pandas as pd \n",
    "\n",
    "from pgmpy.utils import get_example_model\n",
    "from pgmpy.inference import BeliefPropagation\n",
    "\n",
    "from IPython.display import display, Image\n",
    "%config IPCompleter.greedy=True"
   ]
  },
  {
   "cell_type": "markdown",
   "metadata": {},
   "source": [
    "**Problem Description:** The following graphical model models respiratory diseases based on observed symptoms and risk factors. Given a set of symptoms reported by a patient, the model should predict the likelihood of various respiratory diseases.\n",
    "\n",
    "- Visit to Asia (VisitAsia): This variable represents whether a person has visited Asia recently. It's a binary variable, taking on values True or False. \n",
    "\n",
    "- Tuberculosis (Tub): This variable represents whether a person has Tuberculosis. It's a binary variable, taking on values True or False.\n",
    "\n",
    "- Smoking (Smoke): This variable represents whether a person smokes. It's a binary variable, taking on values True or False.\n",
    "\n",
    "- Lung Cancer (Lung): This variable represents whether a person has Lung Cancer. It's a binary variable, taking on values True or False.\n",
    "\n",
    "- Bronchitis (Bronc): This variable represents whether a person has Bronchitis. It's a binary variable, taking on values True or False.\n",
    "\n",
    "- Positive X-ray (Xray): This variable represents whether a person's X-ray result is positive. It's a binary variable, taking on values True or False.\n",
    "\n",
    "- Dyspnea (Dysp): This variable represents whether a person experiences difficulty in breathing (Dyspnea). It's a binary variable, taking on values True or False."
   ]
  },
  {
   "cell_type": "code",
   "execution_count": 23,
   "metadata": {},
   "outputs": [
    {
     "data": {
      "image/png": "[encoded data removed]",
      "text/plain": [
       "<IPython.core.display.Image object>"
      ]
     },
     "metadata": {},
     "output_type": "display_data"
    }
   ],
   "source": [
    "display(Image(filename='./images/asia.png'))"
   ]
  },
  {
   "cell_type": "code",
   "execution_count": 31,
   "metadata": {},
   "outputs": [
    {
     "name": "stdout",
     "output_type": "stream",
     "text": [
      "network unknown {\n",
      "}\n",
      "variable asia {\n",
      "type discrete [ 2 ] { yes, no };\n",
      "}\n",
      "variable tub {\n",
      "type discrete [ 2 ] { yes, no };\n",
      "}\n",
      "variable smoke {\n",
      "type discrete [ 2 ] { yes, no };\n",
      "}\n",
      "variable lung {\n",
      "type discrete [ 2 ] { yes, no };\n",
      "}\n",
      "variable bronc {\n",
      "type discrete [ 2 ] { yes, no };\n",
      "}\n",
      "variable either {\n",
      "type discrete [ 2 ] { yes, no };\n",
      "}\n",
      "variable xray {\n",
      "type discrete [ 2 ] { yes, no };\n",
      "}\n",
      "variable dysp {\n",
      "type discrete [ 2 ] { yes, no };\n",
      "}\n",
      "probability ( asia ) {\n",
      "table 0.01, 0.99;\n",
      "}\n",
      "probability ( tub | asia ) {\n",
      "(yes) 0.05, 0.95;\n",
      "(no) 0.01, 0.99;\n",
      "}\n",
      "probability ( smoke ) {\n",
      "table 0.5, 0.5;\n",
      "}\n",
      "probability ( lung | smoke ) {\n",
      "(yes) 0.1, 0.9;\n",
      "(no) 0.01, 0.99;\n",
      "}\n",
      "probability ( bronc | smoke ) {\n",
      "(yes) 0.6, 0.4;\n",
      "(no) 0.3, 0.7;\n",
      "}\n",
      "probability ( either | lung, tub ) {\n",
      "(yes, yes) 1.0, 0.0;\n",
      "(no, yes) 1.0, 0.0;\n",
      "(yes, no) 1.0, 0.0;\n",
      "(no, no) 0.0, 1.0;\n",
      "}\n",
      "probability ( xray | either ) {\n",
      "(yes) 0.98, 0.02;\n",
      "(no) 0.05, 0.95;\n",
      "}\n",
      "probability ( dysp | bronc, either ) {\n",
      "(yes, yes) 0.9, 0.1;\n",
      "(no, yes) 0.7, 0.3;\n",
      "(yes, no) 0.8, 0.2;\n",
      "(no, no) 0.1, 0.9;\n",
      "}\n"
     ]
    }
   ],
   "source": [
    "# BIF Input. Here we use BIF input. In general, we need to use \n",
    "# a factor graph represented in a \"universal\" template \n",
    "model = get_example_model('asia')\n",
    "\n",
    "bif_file_path = 'asia.bif'\n",
    "\n",
    "with open(bif_file_path, 'r') as file:\n",
    "    for line in file:\n",
    "        print(line.strip())"
   ]
  },
  {
   "cell_type": "markdown",
   "metadata": {},
   "source": [
    "# **Inference** "
   ]
  },
  {
   "cell_type": "code",
   "execution_count": 50,
   "metadata": {},
   "outputs": [
    {
     "name": "stdout",
     "output_type": "stream",
     "text": [
      "+---------+-------------+\n",
      "| xray    |   phi(xray) |\n",
      "+=========+=============+\n",
      "| xray(0) |      0.0597 |\n",
      "+---------+-------------+\n",
      "| xray(1) |      0.9403 |\n",
      "+---------+-------------+\n",
      "+---------+-------------+\n",
      "| lung    |   phi(lung) |\n",
      "+=========+=============+\n",
      "| lung(0) |      0.0012 |\n",
      "+---------+-------------+\n",
      "| lung(1) |      0.9988 |\n",
      "+---------+-------------+\n",
      "+-----------+-------------+\n",
      "| dysp      |   phi(dysp) |\n",
      "+===========+=============+\n",
      "| dysp(yes) |      0.4360 |\n",
      "+-----------+-------------+\n",
      "| dysp(no)  |      0.5640 |\n",
      "+-----------+-------------+\n",
      "+---------+------------+-------------------+\n",
      "| lung    | smoke      |   phi(lung,smoke) |\n",
      "+=========+============+===================+\n",
      "| lung(0) | smoke(yes) |            0.0012 |\n",
      "+---------+------------+-------------------+\n",
      "| lung(0) | smoke(no)  |            0.0001 |\n",
      "+---------+------------+-------------------+\n",
      "| lung(1) | smoke(yes) |            0.4756 |\n",
      "+---------+------------+-------------------+\n",
      "| lung(1) | smoke(no)  |            0.5231 |\n",
      "+---------+------------+-------------------+\n"
     ]
    }
   ],
   "source": [
    "bp = BeliefPropagation(model)\n",
    "\n",
    "# Suppose, I want to know the probability of xray given the evidence that I observed lung cancer.\n",
    "query_result = bp.query(variables=[\"xray\"], evidence={\"lung\": 1})\n",
    "print(query_result)\n",
    "\n",
    "# Suppose, I want to know the probability of lung cancer given the evidence that I observed positive xray.\n",
    "query_result = bp.query(variables=[\"lung\"], evidence={\"xray\": 1})\n",
    "print(query_result)\n",
    "\n",
    "# suppose, I want to know the probability of dysp without having any evidence \n",
    "query_result = bp.query(variables=[\"dysp\"])\n",
    "print(query_result)\n",
    "\n",
    "# Suppose I want to know the probability if lung cancer given a mixture of evidence \n",
    "query_result = bp.query(variables=[\"lung\", \"smoke\"], evidence={\"xray\": 1, \"asia\":\"yes\"})\n",
    "print(query_result)\n"
   ]
  },
  {
   "cell_type": "markdown",
   "metadata": {},
   "source": [
    "# **Learning** "
   ]
  },
  {
   "cell_type": "code",
   "execution_count": 52,
   "metadata": {},
   "outputs": [],
   "source": [
    "import numpy as np\n",
    "from pgmpy.estimators import MaximumLikelihoodEstimator"
   ]
  },
  {
   "cell_type": "code",
   "execution_count": 53,
   "metadata": {},
   "outputs": [
    {
     "name": "stdout",
     "output_type": "stream",
     "text": [
      "[<TabularCPD representing P(asia:2) at 0x2b19426e250>, <TabularCPD representing P(tub:2 | asia:2) at 0x2b1a484b2d0>, <TabularCPD representing P(smoke:2) at 0x2b1a4837d50>, <TabularCPD representing P(lung:2 | smoke:2) at 0x2b19ffc0250>, <TabularCPD representing P(bronc:2 | smoke:2) at 0x2b19a6c44d0>, <TabularCPD representing P(either:2 | lung:2, tub:2) at 0x2b1a39e52d0>, <TabularCPD representing P(xray:2 | either:2) at 0x2b1a39e6610>, <TabularCPD representing P(dysp:2 | bronc:2, either:2) at 0x2b1a39e72d0>]\n",
      "+---------+-------+\n",
      "| asia(0) | 0.488 |\n",
      "+---------+-------+\n",
      "| asia(1) | 0.512 |\n",
      "+---------+-------+\n",
      "+--------+---------------------+-----------+\n",
      "| asia   | asia(0)             | asia(1)   |\n",
      "+--------+---------------------+-----------+\n",
      "| tub(0) | 0.49385245901639346 | 0.4921875 |\n",
      "+--------+---------------------+-----------+\n",
      "| tub(1) | 0.5061475409836066  | 0.5078125 |\n",
      "+--------+---------------------+-----------+\n",
      "+----------+-------+\n",
      "| smoke(0) | 0.521 |\n",
      "+----------+-------+\n",
      "| smoke(1) | 0.479 |\n",
      "+----------+-------+\n",
      "+---------+--------------------+--------------------+\n",
      "| smoke   | smoke(0)           | smoke(1)           |\n",
      "+---------+--------------------+--------------------+\n",
      "| lung(0) | 0.4817658349328215 | 0.5302713987473904 |\n",
      "+---------+--------------------+--------------------+\n",
      "| lung(1) | 0.5182341650671785 | 0.4697286012526096 |\n",
      "+---------+--------------------+--------------------+\n",
      "+----------+--------------------+--------------------+\n",
      "| smoke    | smoke(0)           | smoke(1)           |\n",
      "+----------+--------------------+--------------------+\n",
      "| bronc(0) | 0.4836852207293666 | 0.5177453027139874 |\n",
      "+----------+--------------------+--------------------+\n",
      "| bronc(1) | 0.5163147792706334 | 0.4822546972860125 |\n",
      "+----------+--------------------+--------------------+\n",
      "+-----------+---------------------+-----+---------------------+\n",
      "| lung      | lung(0)             | ... | lung(1)             |\n",
      "+-----------+---------------------+-----+---------------------+\n",
      "| tub       | tub(0)              | ... | tub(1)              |\n",
      "+-----------+---------------------+-----+---------------------+\n",
      "| either(0) | 0.5136186770428015  | ... | 0.47876447876447875 |\n",
      "+-----------+---------------------+-----+---------------------+\n",
      "| either(1) | 0.48638132295719844 | ... | 0.5212355212355212  |\n",
      "+-----------+---------------------+-----+---------------------+\n",
      "+---------+--------------------+---------------------+\n",
      "| either  | either(0)          | either(1)           |\n",
      "+---------+--------------------+---------------------+\n",
      "| xray(0) | 0.4797570850202429 | 0.5454545454545454  |\n",
      "+---------+--------------------+---------------------+\n",
      "| xray(1) | 0.520242914979757  | 0.45454545454545453 |\n",
      "+---------+--------------------+---------------------+\n",
      "+---------+--------------------+-----+---------------------+-----------+\n",
      "| bronc   | bronc(0)           | ... | bronc(1)            | bronc(1)  |\n",
      "+---------+--------------------+-----+---------------------+-----------+\n",
      "| either  | either(0)          | ... | either(0)           | either(1) |\n",
      "+---------+--------------------+-----+---------------------+-----------+\n",
      "| dysp(0) | 0.4628099173553719 | ... | 0.503968253968254   | 0.5       |\n",
      "+---------+--------------------+-----+---------------------+-----------+\n",
      "| dysp(1) | 0.5371900826446281 | ... | 0.49603174603174605 | 0.5       |\n",
      "+---------+--------------------+-----+---------------------+-----------+\n"
     ]
    }
   ],
   "source": [
    "asia_model = get_example_model('asia')\n",
    "\n",
    "edges = asia_model.edges()\n",
    "nodes = asia_model.nodes()\n",
    "\n",
    "values = pd.DataFrame(np.random.randint(low=0, high=2, size=(1000, len(nodes))),\n",
    "                      columns=nodes)\n",
    "\n",
    "estimator = MaximumLikelihoodEstimator(asia_model, values)\n",
    "\n",
    "print(estimator.get_parameters())\n",
    "\n",
    "for cpd in estimator.get_parameters():\n",
    "    print(cpd)"
   ]
  },
  {
   "cell_type": "code",
   "execution_count": null,
   "metadata": {},
   "outputs": [],
   "source": []
  }
 ],
 "metadata": {
  "kernelspec": {
   "display_name": ".venv",
   "language": "python",
   "name": "python3"
  },
  "language_info": {
   "codemirror_mode": {
    "name": "ipython",
    "version": 3
   },
   "file_extension": ".py",
   "mimetype": "text/x-python",
   "name": "python",
   "nbconvert_exporter": "python",
   "pygments_lexer": "ipython3",
   "version": "3.11.4"
  }
 },
 "nbformat": 4,
 "nbformat_minor": 2
}
